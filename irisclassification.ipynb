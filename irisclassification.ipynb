{
  "nbformat": 4,
  "nbformat_minor": 0,
  "metadata": {
    "colab": {
      "provenance": [],
      "mount_file_id": "1Uf1zAi_Twewsd8hl5f_g9Ue8FKxYiydk",
      "authorship_tag": "ABX9TyMQ1MDyF05F/n2HKuZYMVTd",
      "include_colab_link": true
    },
    "kernelspec": {
      "name": "python3",
      "display_name": "Python 3"
    },
    "language_info": {
      "name": "python"
    }
  },
  "cells": [
    {
      "cell_type": "markdown",
      "metadata": {
        "id": "view-in-github",
        "colab_type": "text"
      },
      "source": [
        "<a href=\"https://colab.research.google.com/github/NavyaRonanki/codsoft-irisclassification/blob/main/irisclassification.ipynb\" target=\"_parent\"><img src=\"https://colab.research.google.com/assets/colab-badge.svg\" alt=\"Open In Colab\"/></a>"
      ]
    },
    {
      "cell_type": "code",
      "execution_count": 2,
      "metadata": {
        "colab": {
          "base_uri": "https://localhost:8080/"
        },
        "id": "5FYqeIPY_qI_",
        "outputId": "c326f682-afe1-4782-8cd0-f148194f63f8"
      },
      "outputs": [
        {
          "output_type": "stream",
          "name": "stdout",
          "text": [
            "Is it a classification task? True\n",
            "Measurement type: sepal\n",
            "Accuracy: 1.0\n",
            "Flower 1 variety based on sepal measurements: versicolor\n",
            "Flower 2 variety based on sepal measurements: setosa\n",
            "Flower 3 variety based on sepal measurements: virginica\n",
            "Flower 4 variety based on sepal measurements: versicolor\n",
            "Flower 5 variety based on sepal measurements: versicolor\n",
            "Flower 6 variety based on sepal measurements: setosa\n",
            "Flower 7 variety based on sepal measurements: versicolor\n",
            "Flower 8 variety based on sepal measurements: virginica\n",
            "Flower 9 variety based on sepal measurements: versicolor\n",
            "Flower 10 variety based on sepal measurements: versicolor\n",
            "Flower 11 variety based on sepal measurements: virginica\n",
            "Flower 12 variety based on sepal measurements: setosa\n",
            "Flower 13 variety based on sepal measurements: setosa\n",
            "Flower 14 variety based on sepal measurements: setosa\n",
            "Flower 15 variety based on sepal measurements: setosa\n",
            "Flower 16 variety based on sepal measurements: versicolor\n",
            "Flower 17 variety based on sepal measurements: virginica\n",
            "Flower 18 variety based on sepal measurements: versicolor\n",
            "Flower 19 variety based on sepal measurements: versicolor\n",
            "Flower 20 variety based on sepal measurements: virginica\n",
            "Flower 21 variety based on sepal measurements: setosa\n",
            "Flower 22 variety based on sepal measurements: virginica\n",
            "Flower 23 variety based on sepal measurements: setosa\n",
            "Flower 24 variety based on sepal measurements: virginica\n",
            "Flower 25 variety based on sepal measurements: virginica\n",
            "Flower 26 variety based on sepal measurements: virginica\n",
            "Flower 27 variety based on sepal measurements: virginica\n",
            "Flower 28 variety based on sepal measurements: virginica\n",
            "Flower 29 variety based on sepal measurements: setosa\n",
            "Flower 30 variety based on sepal measurements: setosa\n"
          ]
        }
      ],
      "source": [
        "import pandas as pd\n",
        "from sklearn.model_selection import train_test_split\n",
        "from sklearn.preprocessing import LabelEncoder\n",
        "from sklearn.ensemble import RandomForestClassifier\n",
        "from sklearn.metrics import accuracy_score\n",
        "\n",
        "# Load the Iris dataset from the CSV file\n",
        "file_path = '/content/drive/MyDrive/iris (1).csv'\n",
        "iris_data = pd.read_csv(file_path)\n",
        "\n",
        "# Check if it's a classification task and whether it's based on petal or sepal measurements\n",
        "is_classification = len(iris_data['Species'].unique()) > 2\n",
        "if 'Petal' in iris_data.columns:\n",
        "    measurement_type = 'petal'\n",
        "else:\n",
        "    measurement_type = 'sepal'\n",
        "\n",
        "print(\"Is it a classification task?\", is_classification)\n",
        "print(\"Measurement type:\", measurement_type)\n",
        "\n",
        "# Separate features and target variable\n",
        "X = iris_data.drop('Species', axis=1)\n",
        "y = iris_data['Species']\n",
        "\n",
        "# Encode the target variable\n",
        "label_encoder = LabelEncoder()\n",
        "y = label_encoder.fit_transform(y)\n",
        "\n",
        "# Split the dataset into training and testing sets\n",
        "X_train, X_test, y_train, y_test = train_test_split(X, y, test_size=0.2, random_state=42)\n",
        "\n",
        "# Train a Random Forest classifier\n",
        "model = RandomForestClassifier(random_state=42)\n",
        "model.fit(X_train, y_train)\n",
        "\n",
        "# Make predictions\n",
        "y_pred = model.predict(X_test)\n",
        "\n",
        "# Calculate and print accuracy\n",
        "accuracy = accuracy_score(y_test, y_pred)\n",
        "print(\"Accuracy:\", accuracy)\n",
        "# Print the variety based on its sepal and petal measurements\n",
        "for i, (index, row) in enumerate(X_test.iterrows()):\n",
        "    if measurement_type == 'petal':\n",
        "        print(f\"Flower {i+1} variety based on petal measurements: {iris_data.iloc[index]['Species']}\")\n",
        "    else:\n",
        "        print(f\"Flower {i+1} variety based on sepal measurements: {iris_data.iloc[index]['Species']}\")"
      ]
    },
    {
      "cell_type": "code",
      "source": [],
      "metadata": {
        "colab": {
          "base_uri": "https://localhost:8080/",
          "height": 321
        },
        "id": "GIT4Fowc_tLi",
        "outputId": "6afe9398-40d2-4b64-bd98-e3cc606fe51b"
      },
      "execution_count": 1,
      "outputs": [
        {
          "output_type": "error",
          "ename": "ValueError",
          "evalue": "mount failed",
          "traceback": [
            "\u001b[0;31m---------------------------------------------------------------------------\u001b[0m",
            "\u001b[0;31mValueError\u001b[0m                                Traceback (most recent call last)",
            "\u001b[0;32m<ipython-input-1-d5df0069828e>\u001b[0m in \u001b[0;36m<cell line: 2>\u001b[0;34m()\u001b[0m\n\u001b[1;32m      1\u001b[0m \u001b[0;32mfrom\u001b[0m \u001b[0mgoogle\u001b[0m\u001b[0;34m.\u001b[0m\u001b[0mcolab\u001b[0m \u001b[0;32mimport\u001b[0m \u001b[0mdrive\u001b[0m\u001b[0;34m\u001b[0m\u001b[0;34m\u001b[0m\u001b[0m\n\u001b[0;32m----> 2\u001b[0;31m \u001b[0mdrive\u001b[0m\u001b[0;34m.\u001b[0m\u001b[0mmount\u001b[0m\u001b[0;34m(\u001b[0m\u001b[0;34m'/content/drive'\u001b[0m\u001b[0;34m)\u001b[0m\u001b[0;34m\u001b[0m\u001b[0;34m\u001b[0m\u001b[0m\n\u001b[0m",
            "\u001b[0;32m/usr/local/lib/python3.10/dist-packages/google/colab/drive.py\u001b[0m in \u001b[0;36mmount\u001b[0;34m(mountpoint, force_remount, timeout_ms, readonly)\u001b[0m\n\u001b[1;32m     98\u001b[0m \u001b[0;32mdef\u001b[0m \u001b[0mmount\u001b[0m\u001b[0;34m(\u001b[0m\u001b[0mmountpoint\u001b[0m\u001b[0;34m,\u001b[0m \u001b[0mforce_remount\u001b[0m\u001b[0;34m=\u001b[0m\u001b[0;32mFalse\u001b[0m\u001b[0;34m,\u001b[0m \u001b[0mtimeout_ms\u001b[0m\u001b[0;34m=\u001b[0m\u001b[0;36m120000\u001b[0m\u001b[0;34m,\u001b[0m \u001b[0mreadonly\u001b[0m\u001b[0;34m=\u001b[0m\u001b[0;32mFalse\u001b[0m\u001b[0;34m)\u001b[0m\u001b[0;34m:\u001b[0m\u001b[0;34m\u001b[0m\u001b[0;34m\u001b[0m\u001b[0m\n\u001b[1;32m     99\u001b[0m   \u001b[0;34m\"\"\"Mount your Google Drive at the specified mountpoint path.\"\"\"\u001b[0m\u001b[0;34m\u001b[0m\u001b[0;34m\u001b[0m\u001b[0m\n\u001b[0;32m--> 100\u001b[0;31m   return _mount(\n\u001b[0m\u001b[1;32m    101\u001b[0m       \u001b[0mmountpoint\u001b[0m\u001b[0;34m,\u001b[0m\u001b[0;34m\u001b[0m\u001b[0;34m\u001b[0m\u001b[0m\n\u001b[1;32m    102\u001b[0m       \u001b[0mforce_remount\u001b[0m\u001b[0;34m=\u001b[0m\u001b[0mforce_remount\u001b[0m\u001b[0;34m,\u001b[0m\u001b[0;34m\u001b[0m\u001b[0;34m\u001b[0m\u001b[0m\n",
            "\u001b[0;32m/usr/local/lib/python3.10/dist-packages/google/colab/drive.py\u001b[0m in \u001b[0;36m_mount\u001b[0;34m(mountpoint, force_remount, timeout_ms, ephemeral, readonly)\u001b[0m\n\u001b[1;32m    280\u001b[0m             \u001b[0;34m'https://research.google.com/colaboratory/faq.html#drive-timeout'\u001b[0m\u001b[0;34m\u001b[0m\u001b[0;34m\u001b[0m\u001b[0m\n\u001b[1;32m    281\u001b[0m         )\n\u001b[0;32m--> 282\u001b[0;31m       \u001b[0;32mraise\u001b[0m \u001b[0mValueError\u001b[0m\u001b[0;34m(\u001b[0m\u001b[0;34m'mount failed'\u001b[0m \u001b[0;34m+\u001b[0m \u001b[0mextra_reason\u001b[0m\u001b[0;34m)\u001b[0m\u001b[0;34m\u001b[0m\u001b[0;34m\u001b[0m\u001b[0m\n\u001b[0m\u001b[1;32m    283\u001b[0m     \u001b[0;32melif\u001b[0m \u001b[0mcase\u001b[0m \u001b[0;34m==\u001b[0m \u001b[0;36m4\u001b[0m\u001b[0;34m:\u001b[0m\u001b[0;34m\u001b[0m\u001b[0;34m\u001b[0m\u001b[0m\n\u001b[1;32m    284\u001b[0m       \u001b[0;31m# Terminate the DriveFS binary before killing bash.\u001b[0m\u001b[0;34m\u001b[0m\u001b[0;34m\u001b[0m\u001b[0m\n",
            "\u001b[0;31mValueError\u001b[0m: mount failed"
          ]
        }
      ]
    }
  ]
}